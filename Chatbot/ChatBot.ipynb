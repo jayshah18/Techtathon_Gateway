{
 "cells": [
  {
   "cell_type": "code",
   "execution_count": 1,
   "id": "d5989cae",
   "metadata": {},
   "outputs": [],
   "source": [
    "#https://www.amazon.in/U-TURN-Striped-Sleeves-Casual-Shirt/dp/B09TFK8DKQ/ref=sr_1_56?crid=213LYEXNJT4OW&keywords=half%2Bsleeves%2Bshirts%2Bfor%2Bmen&qid=1696344535&sprefix=half%2B%2Caps%2C217&sr=8-56&th=1&psc=1\n"
   ]
  },
  {
   "cell_type": "code",
   "execution_count": 2,
   "id": "ed6a33fe",
   "metadata": {},
   "outputs": [],
   "source": [
    "import re\n",
    "import random"
   ]
  },
  {
   "cell_type": "code",
   "execution_count": 3,
   "id": "3671f7fe",
   "metadata": {},
   "outputs": [],
   "source": [
    "class RuleBot:\n",
    "    \n",
    "    neg_res = (\"no\",\"nah\",\"nope\",\"sorry\",\"naw\") # negative response\n",
    "    exit_res = (\"quit\",\"bye\",\"goodbye\",\"pause\")\n",
    "    random_questions = (\n",
    "        \"why are you here?\",\n",
    "        \"how are you?\",\n",
    "        \"what are the technologies on this earth?\"\n",
    "    )\n",
    "    def __init__(self):\n",
    "        self.alienabble = {\n",
    "    'describe_planet_intent': r'\\byour planet\\b',\n",
    "    'answer_why_intent': r'why\\sare.*',\n",
    "    'about_dominators': r'.*\\s*dominators.*',\n",
    "}\n",
    "    \n",
    "    def greet(self):\n",
    "        self.name = input(\"What is your name?\\n\")\n",
    "        will_help = input(f\"Hi {self.name}, I am Rule-Bot. Will help to learn about your planet?\\n\")\n",
    "        if will_help in self.neg_res:\n",
    "            print(\"Okay, Have a nice day on earth !!\")\n",
    "            return\n",
    "        self.chat()\n",
    "        \n",
    "    def make_exit(self, reply):\n",
    "        for res in self.exit_res:\n",
    "            if reply == res:\n",
    "                print(\"Have a nice day on earth !!\")\n",
    "                return True\n",
    "            \n",
    "    def chat(self):\n",
    "        reply = input(random.choice(self.random_questions)).lower()\n",
    "        while not self.make_exit(reply):\n",
    "            reply = input(self.match_reply(reply))\n",
    "    \n",
    "    #def match_reply(self,reply):\n",
    "    #    for key, value in self.alienabble.items():\n",
    "    #       intent = key\n",
    "    #        regex_pattern = value\n",
    "    #        found_match = re.search(reply,regex_pattern,re.IGNORECASE)\n",
    "    #        if found_match and intent == 'describe_planet_intent':\n",
    "    #            return self.describe_planet_intent()\n",
    "    #        elif found_match and intent == 'answer_why_intent':\n",
    "    #            return self.answer_why_intent()\n",
    "    #        elif found_match and intent == 'about_dominators':\n",
    "    #            return self.about_dominators()\n",
    "    #    if not found_match:\n",
    "    #        return self.no_match_intent()\n",
    "     \n",
    "    def match_reply(self, reply):\n",
    "        for key, regex_pattern in self.alienabble.items():\n",
    "            found_match = re.search(regex_pattern, reply, re.IGNORECASE)\n",
    "            if found_match:\n",
    "                if key == 'describe_planet_intent':\n",
    "                    return self.describe_planet_intent()\n",
    "                elif key == 'answer_why_intent':\n",
    "                    return self.answer_why_intent()\n",
    "                elif key == 'about_dominators':\n",
    "                    return self.about_dominators()\n",
    "        return self.no_match_intent()\n",
    "    \n",
    "    def describe_planet_intent(self):\n",
    "        resp = (\"My love is my planet\\n\", \"Planet is the place where I can make new frnds and all my life I can spent on\\n\")\n",
    "        return random.choice(resp)\n",
    "    \n",
    "    def answer_why_intent(self):\n",
    "        resp = (\"I am here to help you buddy\\n\", \"I am just learning throgh your data\\n\")\n",
    "        return random.choice(resp)\n",
    "    \n",
    "    def about_dominators(self):\n",
    "        resp = (\"We are the number 1 team in india\\n\", \"we are as good as Kasukabe defence force\\n\")\n",
    "        return random.choice(resp)\n",
    "    \n",
    "    def no_match_intent(self):\n",
    "        resp = (\"Interesting. Can I have more Information?\\n\", \"Cool, I am working on it, tell me more!!\\n\")\n",
    "        return random.choice(resp)\n",
    "    \n",
    "    \n",
    "    \n",
    "    "
   ]
  },
  {
   "cell_type": "code",
   "execution_count": 4,
   "id": "fa5631ae",
   "metadata": {},
   "outputs": [],
   "source": [
    "Alien_bot = RuleBot()"
   ]
  },
  {
   "cell_type": "code",
   "execution_count": 7,
   "id": "7f227949",
   "metadata": {
    "scrolled": true
   },
   "outputs": [
    {
     "name": "stdout",
     "output_type": "stream",
     "text": [
      "What is your name?\n",
      "jay\n",
      "Hi jay, I am Rule-Bot. Will help to learn about your planet?\n",
      "yeash\n",
      "why are you here?why are you here?\n",
      "I am here to help you buddy\n",
      "nice\n",
      "Interesting. Can I have more Information?\n",
      "can i have a knowledge about your planet?\n",
      "My love is my planet\n",
      "intereseting\n",
      "Interesting. Can I have more Information?\n",
      "bye\n",
      "Have a nice day on earth !!\n"
     ]
    }
   ],
   "source": [
    "Alien_bot.greet()"
   ]
  },
  {
   "cell_type": "code",
   "execution_count": null,
   "id": "acde98f5",
   "metadata": {},
   "outputs": [],
   "source": []
  }
 ],
 "metadata": {
  "kernelspec": {
   "display_name": "Python 3 (ipykernel)",
   "language": "python",
   "name": "python3"
  },
  "language_info": {
   "codemirror_mode": {
    "name": "ipython",
    "version": 3
   },
   "file_extension": ".py",
   "mimetype": "text/x-python",
   "name": "python",
   "nbconvert_exporter": "python",
   "pygments_lexer": "ipython3",
   "version": "3.11.3"
  }
 },
 "nbformat": 4,
 "nbformat_minor": 5
}
