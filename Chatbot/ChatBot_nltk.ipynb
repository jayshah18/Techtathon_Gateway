{
 "cells": [
  {
   "cell_type": "code",
   "execution_count": 1,
   "id": "6e724bec",
   "metadata": {},
   "outputs": [],
   "source": [
    "import numpy as np\n",
    "import nltk\n",
    "import string\n",
    "import random"
   ]
  },
  {
   "cell_type": "code",
   "execution_count": null,
   "id": "ae7311fb",
   "metadata": {},
   "outputs": [],
   "source": [
    "# Step:1)  Data Collection -- Pratham's Website\n",
    "f = open('data.txt','r',errors = 'ignore')\n",
    "raw_doc = f.read()"
   ]
  },
  {
   "cell_type": "code",
   "execution_count": null,
   "id": "a8aaca2c",
   "metadata": {},
   "outputs": [],
   "source": [
    "raw_doc"
   ]
  },
  {
   "cell_type": "code",
   "execution_count": null,
   "id": "2a875a31",
   "metadata": {},
   "outputs": [],
   "source": [
    "raw_doc = raw_doc.lower()\n",
    "raw_doc"
   ]
  },
  {
   "cell_type": "code",
   "execution_count": null,
   "id": "3507381b",
   "metadata": {},
   "outputs": [],
   "source": [
    "nltk.download('punkt') # tokenizer use\n",
    "nltk.download('wordnet') # for wordnet dict\n",
    "nltk.download('omw-1.4')"
   ]
  },
  {
   "cell_type": "code",
   "execution_count": null,
   "id": "022ac809",
   "metadata": {},
   "outputs": [],
   "source": [
    "sentence_tokens = nltk.sent_tokenize(raw_doc)\n",
    "word_tokens = nltk.word_tokenize(raw_doc)"
   ]
  },
  {
   "cell_type": "code",
   "execution_count": null,
   "id": "32ba1e51",
   "metadata": {},
   "outputs": [],
   "source": [
    "sentence_tokens[:5]"
   ]
  },
  {
   "cell_type": "code",
   "execution_count": null,
   "id": "4511eeec",
   "metadata": {},
   "outputs": [],
   "source": [
    "sentence_tokens[:-1]"
   ]
  },
  {
   "cell_type": "code",
   "execution_count": null,
   "id": "162e661f",
   "metadata": {},
   "outputs": [],
   "source": [
    "word_tokens[:10]"
   ]
  },
  {
   "cell_type": "code",
   "execution_count": null,
   "id": "55f42044",
   "metadata": {},
   "outputs": [],
   "source": [
    "# Step:2)  Text Prepro\n",
    "lemmer = nltk.stem.WordNetLemmatizer() # As we dont; need any commas or the and etc etc... we need only info.\n"
   ]
  },
  {
   "cell_type": "code",
   "execution_count": null,
   "id": "0588dbc8",
   "metadata": {},
   "outputs": [],
   "source": [
    "def lem_token(tokens):\n",
    "    return [lemmer.lemmatize(token) for token in tokens]"
   ]
  },
  {
   "cell_type": "code",
   "execution_count": null,
   "id": "d3f51a8c",
   "metadata": {},
   "outputs": [],
   "source": [
    "remove_punc_dict = dict((ord(punct),None) for punct in string.punctuation)"
   ]
  },
  {
   "cell_type": "code",
   "execution_count": null,
   "id": "83012b6e",
   "metadata": {},
   "outputs": [],
   "source": [
    "def lem_normalize(text):\n",
    "    return lem_token(nltk.word_tokenize(text.lower().translate(remove_punc_dict)))"
   ]
  },
  {
   "cell_type": "code",
   "execution_count": null,
   "id": "df856ea0",
   "metadata": {},
   "outputs": [],
   "source": []
  },
  {
   "cell_type": "code",
   "execution_count": null,
   "id": "f84c5672",
   "metadata": {},
   "outputs": [],
   "source": [
    "greet_input = (\"hey\",\"hello\",\"hi\",\"hey there\",\"how are you?\")"
   ]
  },
  {
   "cell_type": "code",
   "execution_count": null,
   "id": "50fcd679",
   "metadata": {},
   "outputs": [],
   "source": [
    "greet_responses = (\"Hey There!\",\"hello bidu\",\"kesa he\",\"namaskaram\",\"jay ho\")"
   ]
  },
  {
   "cell_type": "code",
   "execution_count": null,
   "id": "3253a8e1",
   "metadata": {},
   "outputs": [],
   "source": [
    "def greet(sentence):\n",
    "    for word in sentence.split():\n",
    "        if word.lower() in greet_input:\n",
    "            return random.choice(greet_responses)"
   ]
  },
  {
   "cell_type": "code",
   "execution_count": null,
   "id": "9f054253",
   "metadata": {},
   "outputs": [],
   "source": [
    "#Step:3) Convert the text in numbers"
   ]
  },
  {
   "cell_type": "code",
   "execution_count": null,
   "id": "05e3c9aa",
   "metadata": {},
   "outputs": [],
   "source": [
    "from sklearn.feature_extraction.text import TfidfVectorizer\n",
    "from sklearn.metrics.pairwise import cosine_similarity"
   ]
  },
  {
   "cell_type": "code",
   "execution_count": null,
   "id": "1e2f56a4",
   "metadata": {},
   "outputs": [],
   "source": [
    "# Step:4) main respose function \n",
    "def response(user_response):\n",
    "    robo1_response = ''\n",
    "    TfidfVec = TfidfVectorizer(tokenizer=lem_normalize, stop_words='english')\n",
    "    tfidf = TfidfVec.fit_transform(sentence_tokens)\n",
    "    values = cosine_similarity(tfidf[-1],tfidf)\n",
    "    idx = values.argsort()[0][-2]\n",
    "    flat = values.flatten()\n",
    "    flat.sort()\n",
    "    req_tfidf = flat[-2]\n",
    "    if req_tfidf == 0 :\n",
    "        robo1_response = robo1_response + \"Sorry, I have to sleep!\"\n",
    "        return robo1_response\n",
    "    else:\n",
    "        robo1_response = robo1_response + sentence_tokens[idx]\n",
    "        return robo1_response"
   ]
  },
  {
   "cell_type": "code",
   "execution_count": null,
   "id": "0111f1a1",
   "metadata": {},
   "outputs": [],
   "source": [
    "# Step:5) Chat Flow \n",
    "flag = True\n",
    "print(\"Hey, Khamma ghani raani sa !!\")\n",
    "while(flag == True):\n",
    "    user_response = input()\n",
    "    user_response = user_response.lower()\n",
    "    if(user_response!='bye'):\n",
    "        if(user_response == 'thank you' or user_response=='thanks'):\n",
    "            flag = False\n",
    "            print('Bot: Welcome re... Anytime')\n",
    "        else:\n",
    "            if(greet(user_response)!= None):\n",
    "                print('Bot: '+greet(user_response))\n",
    "            else:\n",
    "                # response will be generated using cosine similarity\n",
    "                sentence_tokens.append(user_response)\n",
    "                word_tokens = word_tokens + nltk.word_tokenize(user_response)\n",
    "                final_words = list(set(word_tokens))\n",
    "                print('Bot: ', end='')\n",
    "                print(response(user_response))\n",
    "                sentence_tokens.remove(user_response)\n",
    "    else:\n",
    "        flag = False\n",
    "        print('Bot: Fir milenge chalte chalte')"
   ]
  },
  {
   "cell_type": "code",
   "execution_count": null,
   "id": "2dfa37be",
   "metadata": {},
   "outputs": [],
   "source": []
  }
 ],
 "metadata": {
  "kernelspec": {
   "display_name": "Python 3 (ipykernel)",
   "language": "python",
   "name": "python3"
  },
  "language_info": {
   "codemirror_mode": {
    "name": "ipython",
    "version": 3
   },
   "file_extension": ".py",
   "mimetype": "text/x-python",
   "name": "python",
   "nbconvert_exporter": "python",
   "pygments_lexer": "ipython3",
   "version": "3.11.3"
  }
 },
 "nbformat": 4,
 "nbformat_minor": 5
}
